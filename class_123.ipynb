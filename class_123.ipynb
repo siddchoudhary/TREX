{
  "nbformat": 4,
  "nbformat_minor": 0,
  "metadata": {
    "colab": {
      "provenance": [],
      "authorship_tag": "ABX9TyPL4Vaa19rs+gcKJV0CtA00",
      "include_colab_link": true
    },
    "kernelspec": {
      "name": "python3",
      "display_name": "Python 3"
    },
    "language_info": {
      "name": "python"
    }
  },
  "cells": [
    {
      "cell_type": "markdown",
      "metadata": {
        "id": "view-in-github",
        "colab_type": "text"
      },
      "source": [
        "<a href=\"https://colab.research.google.com/github/siddchoudhary/TREX/blob/main/class_123.ipynb\" target=\"_parent\"><img src=\"https://colab.research.google.com/assets/colab-badge.svg\" alt=\"Open In Colab\"/></a>"
      ]
    },
    {
      "cell_type": "code",
      "execution_count": null,
      "metadata": {
        "id": "piVF3s1-jiov"
      },
      "outputs": [],
      "source": [
        "import cv2\n",
        "import numpy as np\n",
        "import pandas as pd\n",
        "import matplotlib.pyplot as plt\n",
        "from sklearn.datasets import fetch_openml\n",
        "from sklearn.model_selection import train_test_split\n",
        "from sklearn.linear_model import LogisticRegression\n",
        "from sklearn.metrics import accuracy_score\n",
        "from PIL import Image\n",
        "import PIL.ImageOps\n",
        "import os, ssl, time\n",
        "\n",
        "\n",
        "if(not os.environ.get(\"PYTHONHTTPSVERIFIED\", \"\") and\n",
        "   getattr(ssl, \"_create_unverified_context\", None)):\n",
        "  ssl._create_default_https_context = ssl._create_unverified_context\n",
        "\n",
        "X,y = fetch_openml(\"mnist_784\", version = 1, return_X_y = True)\n",
        "print(pd.Series(y).value_counts())\n",
        "classes = [\"0\", \"1\", \"2\", \"3\", \"4\", \"5\", \"6\", \"7\", \"8\", \"9\"]\n",
        "nclasses = len(classes)\n",
        "\n",
        "\n",
        "X_train, X_test, y_train, y_test = train_test_split(X, y, random_state = 9, train_size = 7500, test_size = 2500)\n",
        "\n",
        "X_train_scaled = X_train/255.0\n",
        "X_test_scaled = X_test/255.0\n",
        "\n",
        "clf = LogisticRegression(solver = \"saga\", multi_class = \"multinomil\").fit(X_train_scaled, y_train)\n",
        "\n",
        "y_pred = clf.predict(X_test_scaled)\n",
        "accuracy = accuracy_score(y_test, y_pred)\n",
        "print(\"the accuracy is:-\", accuracy)\n",
        "\n",
        "cap = cv2.VideoCapture(0)\n",
        "while (True):\n",
        "  try:\n",
        "    ret, frame = cap.read()\n",
        "    gray = cv2.cvtColor(frame, cv2.COLOR_BGR2GRAY)\n",
        "    height, width = gray.shape\n",
        "    upper_left = (int(width/2-56), int(height/2-56))\n",
        "    bottom_right = (int(width/2+56), int(height/2+56))\n",
        "    cv2.rectangle(gray, upper_left, bottom_right(0,255,0), 2)\n",
        "\n",
        "    roi = gray[upper_left[1]:bottom_right[1], upper_left[0]:bottom_right[0]]\n",
        "\n",
        "    im_pil = Image.fromarray(roi)\n",
        "\n",
        "    image_vw = im_pil.convert(\"L\")\n",
        "    image_bw_resized = image_bw.resize((28,28), Image.ANTIALIAS)\n",
        "\n",
        "    image_bw_resized_inverted = PIL.ImageOps.invert(image_bw_resized)\n",
        "    pixel_filter = 20\n",
        "    min_pixel = np.pecentile(image_bw_resized_inverted, pixel_filter)\n",
        "    image_bw_resized_inverted_scale = np.clip(image_bw_resize_inverted-min_pixel,0 ,255)\n",
        "    max_pixel = np.max(image_bw_resized_inverted)\n",
        "    image_bw_resized_inverted_scale = np.asarray(image_bw_resize_inverted_scale)/max_pixel\n",
        "    test_sample = np.array(image_bw_resized_inverted_scaled).reshaped(1,784)\n",
        "    test_pred = clf.predict(test_samlpe)\n",
        "    print(\"predicted class is:\", test_pred)\n",
        "\n",
        "    cv2.imshow(\"frame\", gray)\n",
        "    if cv2.waitKey(1)& 0xFF == ord(\"q\"):\n",
        "      break\n",
        "  except Exception as e:\n",
        "    pass\n",
        "\n",
        "cap.release()\n",
        "cv2.destroyAllWindows()\n",
        "\n"
      ]
    }
  ]
}